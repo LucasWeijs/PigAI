
{
 "cells": [
  {
   "cell_type": "markdown",
   "metadata": {},
   "source": [
    "# Pig Detection with YOLOv5\n",
    "This notebook will guide you through setting up YOLOv5 to detect pigs in images and videos.\n"
   ]
  },
  {
   "cell_type": "code",
   "execution_count": null,
   "metadata": {},
   "outputs": [],
   "source": [
    "# Step 1: Install necessary libraries\n",
    "!pip install torch torchvision torchaudio --index-url https://download.pytorch.org/whl/cu117\n",
    "!pip install opencv-python-headless\n",
    "!git clone https://github.com/ultralytics/yolov5.git\n",
    "!cd yolov5 && pip install -r requirements.txt"
   ]
  },
  {
   "cell_type": "code",
   "execution_count": null,
   "metadata": {},
   "outputs": [],
   "source": [
    "# Step 2: Perform detection on pre-trained model\n",
    "# You can use the pre-trained YOLOv5 model to detect pigs\n",
    "# The class '16' is typically used for pigs in the COCO dataset\n",
    "!python yolov5/detect.py --weights yolov5s.pt --source <path_to_photos_or_videos> --conf 0.25 --classes 16"
   ]
  },
  {
   "cell_type": "code",
   "execution_count": null,
   "metadata": {},
   "outputs": [],
   "source": [
    "# Step 3: (Optional) Train YOLOv5 on your custom dataset\n",
    "# If you have a custom dataset for pigs, you can train the model\n",
    "# Create your dataset in YOLO format and configure the YAML\n",
    "!python yolov5/train.py --img 640 --batch 16 --epochs 100 --data custom_dataset.yaml --weights yolov5s.pt"
   ]
  },
  {
   "cell_type": "code",
   "execution_count": null,
   "metadata": {},
   "outputs": [],
   "source": [
    "# Step 4: Inference on images or videos\n",
    "# After training or using the pre-trained model, you can perform inference\n",
    "!python yolov5/detect.py --weights <path_to_your_trained_weights>.pt --source <path_to_photos_or_videos> --conf 0.25 --img-size 640"
   ]
  },
  {
   "cell_type": "code",
   "execution_count": null,
   "metadata": {},
   "outputs": [],
   "source": [
    "# Step 5: (Optional) Run real-time detection on video stream\n",
    "!python yolov5/detect.py --weights <path_to_your_trained_weights>.pt --source 0"
   ]
  }
 ],
 "metadata": {
  "kernelspec": {
   "display_name": "Python 3",
   "language": "python",
   "name": "python3"
  },
  "language_info": {
   "codemirror_mode": {
    "name": "ipython",
    "version": 3
   },
   "file_extension": ".py",
   "mimetype": "text/x-python",
   "name": "python",
   "nbconvert_exporter": "python",
   "pygments_lexer": "ipython3",
   "version": "3.9.16"
  }
 },
 "nbformat": 4,
 "nbformat_minor": 5
}
