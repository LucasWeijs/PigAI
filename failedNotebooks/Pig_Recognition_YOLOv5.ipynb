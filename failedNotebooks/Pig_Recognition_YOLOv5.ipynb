{
 "cells": [
  {
   "cell_type": "markdown",
   "metadata": {},
   "source": [
    "# Pig Recognition Using YOLOv5 and CUDA\n",
    "\n",
    "This notebook guides you through setting up and training a YOLOv5 model to recognize healthy and ill pigs using CUDA."
   ]
  },
  {
   "cell_type": "code",
   "execution_count": 2,
   "metadata": {},
   "outputs": [
    {
     "name": "stdout",
     "output_type": "stream",
     "text": [
      "c:\\Users\\Gebruiker\\Desktop\\School\\Minor\\PigAI\\implementation2\\yolov5\n"
     ]
    },
    {
     "name": "stderr",
     "output_type": "stream",
     "text": [
      "Cloning into 'yolov5'...\n",
      "C:\\Users\\Gebruiker\\AppData\\Roaming\\Python\\Python312\\site-packages\\IPython\\core\\magics\\osm.py:417: UserWarning: This is now an optional IPython functionality, setting dhist requires you to install the `pickleshare` library.\n",
      "  self.shell.db['dhist'] = compress_dhist(dhist)[-100:]\n"
     ]
    },
    {
     "name": "stdout",
     "output_type": "stream",
     "text": [
      "Defaulting to user installation because normal site-packages is not writeable\n",
      "Requirement already satisfied: gitpython>=3.1.30 in c:\\python312\\lib\\site-packages (from -r requirements.txt (line 5)) (3.1.43)\n",
      "Requirement already satisfied: matplotlib>=3.3 in c:\\python312\\lib\\site-packages (from -r requirements.txt (line 6)) (3.9.2)\n",
      "Requirement already satisfied: numpy>=1.23.5 in c:\\python312\\lib\\site-packages (from -r requirements.txt (line 7)) (2.1.2)\n",
      "Requirement already satisfied: opencv-python>=4.1.1 in c:\\python312\\lib\\site-packages (from -r requirements.txt (line 8)) (4.10.0.84)\n",
      "Requirement already satisfied: pillow>=10.3.0 in c:\\python312\\lib\\site-packages (from -r requirements.txt (line 9)) (10.4.0)\n",
      "Requirement already satisfied: psutil in c:\\users\\gebruiker\\appdata\\roaming\\python\\python312\\site-packages (from -r requirements.txt (line 10)) (6.0.0)\n",
      "Requirement already satisfied: PyYAML>=5.3.1 in c:\\python312\\lib\\site-packages (from -r requirements.txt (line 11)) (6.0.2)\n",
      "Requirement already satisfied: requests>=2.32.2 in c:\\python312\\lib\\site-packages (from -r requirements.txt (line 12)) (2.32.3)\n",
      "Requirement already satisfied: scipy>=1.4.1 in c:\\python312\\lib\\site-packages (from -r requirements.txt (line 13)) (1.14.1)\n",
      "Requirement already satisfied: thop>=0.1.1 in c:\\python312\\lib\\site-packages (from -r requirements.txt (line 14)) (0.1.1.post2209072238)\n",
      "Requirement already satisfied: torch>=1.8.0 in c:\\python312\\lib\\site-packages (from -r requirements.txt (line 15)) (2.4.1+cu118)\n",
      "Requirement already satisfied: torchvision>=0.9.0 in c:\\python312\\lib\\site-packages (from -r requirements.txt (line 16)) (0.19.1+cu118)\n",
      "Requirement already satisfied: tqdm>=4.66.3 in c:\\python312\\lib\\site-packages (from -r requirements.txt (line 17)) (4.66.5)\n",
      "Requirement already satisfied: ultralytics>=8.2.34 in c:\\python312\\lib\\site-packages (from -r requirements.txt (line 18)) (8.3.15)\n",
      "Requirement already satisfied: pandas>=1.1.4 in c:\\python312\\lib\\site-packages (from -r requirements.txt (line 27)) (2.2.3)\n",
      "Requirement already satisfied: seaborn>=0.11.0 in c:\\python312\\lib\\site-packages (from -r requirements.txt (line 28)) (0.13.2)\n",
      "Requirement already satisfied: setuptools>=70.0.0 in c:\\python312\\lib\\site-packages (from -r requirements.txt (line 42)) (75.1.0)\n",
      "Requirement already satisfied: gitdb<5,>=4.0.1 in c:\\python312\\lib\\site-packages (from gitpython>=3.1.30->-r requirements.txt (line 5)) (4.0.11)\n",
      "Requirement already satisfied: contourpy>=1.0.1 in c:\\python312\\lib\\site-packages (from matplotlib>=3.3->-r requirements.txt (line 6)) (1.3.0)\n",
      "Requirement already satisfied: cycler>=0.10 in c:\\python312\\lib\\site-packages (from matplotlib>=3.3->-r requirements.txt (line 6)) (0.12.1)\n",
      "Requirement already satisfied: fonttools>=4.22.0 in c:\\python312\\lib\\site-packages (from matplotlib>=3.3->-r requirements.txt (line 6)) (4.54.1)\n",
      "Requirement already satisfied: kiwisolver>=1.3.1 in c:\\python312\\lib\\site-packages (from matplotlib>=3.3->-r requirements.txt (line 6)) (1.4.7)\n",
      "Requirement already satisfied: packaging>=20.0 in c:\\users\\gebruiker\\appdata\\roaming\\python\\python312\\site-packages (from matplotlib>=3.3->-r requirements.txt (line 6)) (24.1)\n",
      "Requirement already satisfied: pyparsing>=2.3.1 in c:\\python312\\lib\\site-packages (from matplotlib>=3.3->-r requirements.txt (line 6)) (3.1.4)\n",
      "Requirement already satisfied: python-dateutil>=2.7 in c:\\users\\gebruiker\\appdata\\roaming\\python\\python312\\site-packages (from matplotlib>=3.3->-r requirements.txt (line 6)) (2.9.0.post0)\n",
      "Requirement already satisfied: charset-normalizer<4,>=2 in c:\\python312\\lib\\site-packages (from requests>=2.32.2->-r requirements.txt (line 12)) (3.3.2)\n",
      "Requirement already satisfied: idna<4,>=2.5 in c:\\python312\\lib\\site-packages (from requests>=2.32.2->-r requirements.txt (line 12)) (3.10)\n",
      "Requirement already satisfied: urllib3<3,>=1.21.1 in c:\\python312\\lib\\site-packages (from requests>=2.32.2->-r requirements.txt (line 12)) (2.2.3)\n",
      "Requirement already satisfied: certifi>=2017.4.17 in c:\\python312\\lib\\site-packages (from requests>=2.32.2->-r requirements.txt (line 12)) (2024.8.30)\n",
      "Requirement already satisfied: filelock in c:\\python312\\lib\\site-packages (from torch>=1.8.0->-r requirements.txt (line 15)) (3.16.1)\n",
      "Requirement already satisfied: typing-extensions>=4.8.0 in c:\\python312\\lib\\site-packages (from torch>=1.8.0->-r requirements.txt (line 15)) (4.12.2)\n",
      "Requirement already satisfied: sympy in c:\\python312\\lib\\site-packages (from torch>=1.8.0->-r requirements.txt (line 15)) (1.13.3)\n",
      "Requirement already satisfied: networkx in c:\\python312\\lib\\site-packages (from torch>=1.8.0->-r requirements.txt (line 15)) (3.3)\n",
      "Requirement already satisfied: jinja2 in c:\\python312\\lib\\site-packages (from torch>=1.8.0->-r requirements.txt (line 15)) (3.1.4)\n",
      "Requirement already satisfied: fsspec in c:\\python312\\lib\\site-packages (from torch>=1.8.0->-r requirements.txt (line 15)) (2024.9.0)\n",
      "Requirement already satisfied: colorama in c:\\users\\gebruiker\\appdata\\roaming\\python\\python312\\site-packages (from tqdm>=4.66.3->-r requirements.txt (line 17)) (0.4.6)\n",
      "Requirement already satisfied: py-cpuinfo in c:\\python312\\lib\\site-packages (from ultralytics>=8.2.34->-r requirements.txt (line 18)) (9.0.0)\n",
      "Requirement already satisfied: ultralytics-thop>=2.0.0 in c:\\python312\\lib\\site-packages (from ultralytics>=8.2.34->-r requirements.txt (line 18)) (2.0.9)\n",
      "Requirement already satisfied: pytz>=2020.1 in c:\\python312\\lib\\site-packages (from pandas>=1.1.4->-r requirements.txt (line 27)) (2024.2)\n",
      "Requirement already satisfied: tzdata>=2022.7 in c:\\python312\\lib\\site-packages (from pandas>=1.1.4->-r requirements.txt (line 27)) (2024.2)\n",
      "Requirement already satisfied: smmap<6,>=3.0.1 in c:\\python312\\lib\\site-packages (from gitdb<5,>=4.0.1->gitpython>=3.1.30->-r requirements.txt (line 5)) (5.0.1)\n",
      "Requirement already satisfied: six>=1.5 in c:\\users\\gebruiker\\appdata\\roaming\\python\\python312\\site-packages (from python-dateutil>=2.7->matplotlib>=3.3->-r requirements.txt (line 6)) (1.16.0)\n",
      "Requirement already satisfied: MarkupSafe>=2.0 in c:\\python312\\lib\\site-packages (from jinja2->torch>=1.8.0->-r requirements.txt (line 15)) (2.1.5)\n",
      "Requirement already satisfied: mpmath<1.4,>=1.1.0 in c:\\python312\\lib\\site-packages (from sympy->torch>=1.8.0->-r requirements.txt (line 15)) (1.3.0)\n"
     ]
    },
    {
     "name": "stderr",
     "output_type": "stream",
     "text": [
      "WARNING: Ignoring invalid distribution ~ (C:\\Python312\\Lib\\site-packages)\n",
      "WARNING: Ignoring invalid distribution ~ip (C:\\Python312\\Lib\\site-packages)\n",
      "WARNING: Ignoring invalid distribution ~ (C:\\Python312\\Lib\\site-packages)\n",
      "WARNING: Ignoring invalid distribution ~ip (C:\\Python312\\Lib\\site-packages)\n",
      "\n",
      "[notice] A new release of pip is available: 24.2 -> 24.3.1\n",
      "[notice] To update, run: python.exe -m pip install --upgrade pip\n"
     ]
    }
   ],
   "source": [
    "# Step 1: Set Up the Environment\n",
    "# Make sure you have YOLOv5 cloned and installed\n",
    "!git clone https://github.com/ultralytics/yolov5\n",
    "%cd yolov5\n",
    "!pip install -r requirements.txt"
   ]
  },
  {
   "cell_type": "code",
   "execution_count": 2,
   "metadata": {},
   "outputs": [
    {
     "name": "stdout",
     "output_type": "stream",
     "text": [
      "CUDA Available: True\n"
     ]
    }
   ],
   "source": [
    "# Step 2: Import Dependencies\n",
    "import torch\n",
    "from pathlib import Path\n",
    "\n",
    "# Verify CUDA\n",
    "print(f\"CUDA Available: {torch.cuda.is_available()}\")"
   ]
  },
  {
   "cell_type": "markdown",
   "metadata": {},
   "source": [
    "## Step 3: Organize and Label Data\n",
    "\n",
    "Set your image path and manually label images using a tool like LabelImg. This will generate label files in YOLO format for healthy and ill pigs."
   ]
  },
  {
   "cell_type": "code",
   "execution_count": null,
   "metadata": {},
   "outputs": [],
   "source": [
    "# Directory where your images are stored\n",
    "image_dir = Path('C:\\Users\\Gebruiker\\Desktop\\School\\Minor\\PigAI\\implementation2\\yolov5\\dataset\\train\\images')  # Replace with your image directory"
   ]
  },
  {
   "cell_type": "markdown",
   "metadata": {},
   "source": [
    "## Step 4: Prepare the YOLOv5 Data Structure\n",
    "\n",
    "Structure your data into a `train` and `val` folder, each containing `images` and `labels` directories."
   ]
  },
  {
   "cell_type": "code",
   "execution_count": 41,
   "metadata": {},
   "outputs": [],
   "source": [
    "# Step 5: Define YAML Configuration\n",
    "# Create a YAML file for the dataset\n",
    "dataset_yaml = '''\n",
    "path: ../dataset  # Path to dataset folder\n",
    "train: train/images\n",
    "val: val/images\n",
    "names: ['healthy', 'ill']  # Classes\n",
    "'''\n",
    "\n",
    "# Save YAML configuration\n",
    "with open(\"dataset.yaml\", \"w\") as f:\n",
    "    f.write(dataset_yaml)"
   ]
  },
  {
   "cell_type": "code",
   "execution_count": 1,
   "metadata": {},
   "outputs": [
    {
     "name": "stderr",
     "output_type": "stream",
     "text": [
      "python: can't open file 'c:\\\\Users\\\\Gebruiker\\\\Desktop\\\\School\\\\Minor\\\\PigAI\\\\implementation2\\\\train.py': [Errno 2] No such file or directory\n"
     ]
    }
   ],
   "source": [
    "# Step 6: Train the Model\n",
    "!python train.py --img 640 --batch 16 --epochs 50 --data dataset.yaml --weights yolov5s.pt --device 0"
   ]
  },
  {
   "cell_type": "code",
   "execution_count": null,
   "metadata": {},
   "outputs": [],
   "source": [
    "# Step 7: Evaluate the Model\n",
    "# Check results after training, visualized in 'runs/train/exp' (or 'exp1', 'exp2', etc.)\n",
    "!python val.py --data dataset.yaml --weights runs/train/exp/weights/best.pt --img 640"
   ]
  },
  {
   "cell_type": "code",
   "execution_count": null,
   "metadata": {},
   "outputs": [],
   "source": [
    "# Step 8: Inference on New Images\n",
    "# Make predictions on new images\n",
    "from IPython.display import Image, display\n",
    "\n",
    "# Path to an example image to test\n",
    "test_image = 'path/to/your/test_image.jpg'  # Replace with your test image path\n",
    "!python detect.py --weights runs/train/exp/weights/best.pt --img 640 --conf 0.25 --source {test_image}\n",
    "\n",
    "# Display the result\n",
    "display(Image(filename='runs/detect/exp/test_image.jpg'))"
   ]
  }
 ],
 "metadata": {
  "kernelspec": {
   "display_name": "Python 3",
   "language": "python",
   "name": "python3"
  },
  "language_info": {
   "codemirror_mode": {
    "name": "ipython",
    "version": 3
   },
   "file_extension": ".py",
   "mimetype": "text/x-python",
   "name": "python",
   "nbconvert_exporter": "python",
   "pygments_lexer": "ipython3",
   "version": "3.12.6"
  }
 },
 "nbformat": 4,
 "nbformat_minor": 2
}
