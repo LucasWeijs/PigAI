{
 "cells": [
  {
   "cell_type": "markdown",
   "id": "decd3bc1",
   "metadata": {},
   "source": [
    "# VGG16 Setup for Pig Disease Classification"
   ]
  },
  {
   "cell_type": "code",
   "execution_count": null,
   "id": "b34a3bdd",
   "metadata": {},
   "outputs": [],
   "source": [
    "\n",
    "import os\n",
    "import tensorflow as tf\n",
    "from tensorflow.keras.preprocessing.image import ImageDataGenerator\n",
    "from tensorflow.keras.applications import VGG16\n",
    "from tensorflow.keras.models import Model\n",
    "from tensorflow.keras.layers import Dense, Flatten, Dropout\n"
   ]
  },
  {
   "cell_type": "code",
   "execution_count": null,
   "id": "50440fec",
   "metadata": {},
   "outputs": [],
   "source": [
    "\n",
    "# Define paths\n",
    "data_dir = 'data/'\n",
    "\n",
    "# Data preprocessing\n",
    "datagen = ImageDataGenerator(\n",
    "    rescale=1.0/255, \n",
    "    validation_split=0.2  # 80-20 train-validation split\n",
    ")\n",
    "\n",
    "train_gen = datagen.flow_from_directory(\n",
    "    data_dir,\n",
    "    target_size=(224, 224),  # VGG16 input size\n",
    "    batch_size=32,\n",
    "    class_mode='categorical',\n",
    "    subset='training'\n",
    ")\n",
    "\n",
    "val_gen = datagen.flow_from_directory(\n",
    "    data_dir,\n",
    "    target_size=(224, 224),\n",
    "    batch_size=32,\n",
    "    class_mode='categorical',\n",
    "    subset='validation'\n",
    ")\n"
   ]
  },
  {
   "cell_type": "code",
   "execution_count": null,
   "id": "110446fc",
   "metadata": {},
   "outputs": [],
   "source": [
    "\n",
    "# Load VGG16 without the top classification layer\n",
    "base_model = VGG16(weights='imagenet', include_top=False, input_shape=(224, 224, 3))\n",
    "\n",
    "# Freeze the base model\n",
    "base_model.trainable = False\n"
   ]
  },
  {
   "cell_type": "code",
   "execution_count": null,
   "id": "b55ffb6a",
   "metadata": {},
   "outputs": [],
   "source": [
    "\n",
    "# Add custom layers on top of the base model\n",
    "x = Flatten()(base_model.output)\n",
    "x = Dense(128, activation='relu')(x)\n",
    "x = Dropout(0.5)(x)\n",
    "output = Dense(len(train_gen.class_indices), activation='softmax')(x)  # Number of classes\n",
    "\n",
    "model = Model(inputs=base_model.input, outputs=output)\n",
    "\n",
    "# Compile the model\n",
    "model.compile(optimizer='adam', loss='categorical_crossentropy', metrics=['accuracy'])\n"
   ]
  },
  {
   "cell_type": "code",
   "execution_count": null,
   "id": "8d24c236",
   "metadata": {},
   "outputs": [],
   "source": [
    "\n",
    "# Train the model\n",
    "history = model.fit(\n",
    "    train_gen,\n",
    "    validation_data=val_gen,\n",
    "    epochs=10\n",
    ")\n"
   ]
  },
  {
   "cell_type": "code",
   "execution_count": null,
   "id": "ac03d085",
   "metadata": {},
   "outputs": [],
   "source": [
    "\n",
    "# Evaluate the model\n",
    "test_loss, test_acc = model.evaluate(val_gen)\n",
    "print(f\"Test accuracy: {test_acc}\")\n"
   ]
  },
  {
   "cell_type": "code",
   "execution_count": null,
   "id": "5002eaf3",
   "metadata": {},
   "outputs": [],
   "source": [
    "\n",
    "# Save the model for future use\n",
    "model.save('vgg16_pig_disease_model.h5')\n"
   ]
  },
  {
   "cell_type": "code",
   "execution_count": null,
   "id": "a70af9c5",
   "metadata": {},
   "outputs": [],
   "source": [
    "\n",
    "# Fine-tune the model (optional)\n",
    "for layer in base_model.layers[-4:]:\n",
    "    layer.trainable = True\n",
    "\n",
    "# Recompile with a lower learning rate\n",
    "model.compile(optimizer=tf.keras.optimizers.Adam(learning_rate=1e-5),\n",
    "              loss='categorical_crossentropy',\n",
    "              metrics=['accuracy'])\n",
    "\n",
    "# Train again\n",
    "history_finetune = model.fit(\n",
    "    train_gen,\n",
    "    validation_data=val_gen,\n",
    "    epochs=5\n",
    ")\n"
   ]
  },
  {
   "cell_type": "code",
   "execution_count": null,
   "id": "feff719f",
   "metadata": {},
   "outputs": [],
   "source": [
    "\n",
    "# Use the model for predictions on new images\n",
    "from tensorflow.keras.preprocessing.image import load_img, img_to_array\n",
    "\n",
    "img = load_img('path_to_new_image.jpg', target_size=(224, 224))\n",
    "img_array = img_to_array(img) / 255.0\n",
    "img_array = img_array.reshape(1, 224, 224, 3)\n",
    "\n",
    "prediction = model.predict(img_array)\n",
    "print(prediction)\n"
   ]
  }
 ],
 "metadata": {},
 "nbformat": 4,
 "nbformat_minor": 5
}
